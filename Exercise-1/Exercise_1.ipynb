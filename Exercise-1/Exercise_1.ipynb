{
 "cells": [
  {
   "cell_type": "markdown",
   "metadata": {
    "deletable": false,
    "editable": false,
    "nbgrader": {
     "cell_type": "markdown",
     "checksum": "06ab16b7cdc29920437c2bb50e10458d",
     "grade": false,
     "grade_id": "cell-2f8067f721098ec4",
     "locked": true,
     "schema_version": 3,
     "solution": false,
     "task": false
    }
   },
   "source": [
    "# Exercise 1"
   ]
  },
  {
   "cell_type": "markdown",
   "metadata": {
    "deletable": false,
    "editable": false,
    "nbgrader": {
     "cell_type": "markdown",
     "checksum": "4b626efa2d7eef08626b61e49a967259",
     "grade": false,
     "grade_id": "cell-14ca577e70096fbf",
     "locked": true,
     "schema_version": 3,
     "solution": false,
     "task": false
    }
   },
   "source": [
    "## physics718: Programming in Physics and Astronomy with C++ or Python (SS 2020)\n",
    "Oliver Cordes & Thomas Erben"
   ]
  },
  {
   "cell_type": "markdown",
   "metadata": {
    "deletable": false,
    "editable": false,
    "nbgrader": {
     "cell_type": "markdown",
     "checksum": "a7582d23270d264743142ea01f787067",
     "grade": false,
     "grade_id": "cell-58e8949e2e41603c",
     "locked": true,
     "schema_version": 3,
     "solution": false,
     "task": false
    }
   },
   "source": [
    "Homework is due on **Wednesday, 29/04/2020, 23:59pm**\n",
    "\n",
    " * You only learn a programming language by actively praticing and using it! We therefore **strongly** advise you to work on the homework problems.\n",
    " * Please discuss the problems with your student peers in case of problems.\n",
    " * Your code(s) needs to be well and appropriately commented!\n",
    " * All files of your solution should be in the same directory as this notebook\n",
    " * Finally submit this notebook with your solutions in the nbgrader system\n",
    " \n",
    "**Main topics of this exercise:**\n",
    "\n",
    "During the course you will use Jupyter notebooks for the homework exercises and Python scripts for the projects. The focus of this exercise is how to work with notebooks and how to write a python script. You don't need to write any Python code by yourself. All codes are provided in the notebook itself and in additional materials. "
   ]
  },
  {
   "cell_type": "markdown",
   "metadata": {},
   "source": [
    "Put in here your group number: \n",
    "\n",
    "Group 12"
   ]
  },
  {
   "cell_type": "markdown",
   "metadata": {
    "deletable": false,
    "editable": false,
    "nbgrader": {
     "cell_type": "markdown",
     "checksum": "9ea57e89f499cc59c2b308454ced6c93",
     "grade": false,
     "grade_id": "cell-02e1214c51b9e112",
     "locked": true,
     "schema_version": 3,
     "solution": false,
     "task": false
    }
   },
   "source": [
    "# Before you start"
   ]
  },
  {
   "cell_type": "markdown",
   "metadata": {
    "deletable": false,
    "editable": false,
    "nbgrader": {
     "cell_type": "markdown",
     "checksum": "e48e8be90df53c879ecf94207d070720",
     "grade": false,
     "grade_id": "cell-1962a4d9b51b98b8",
     "locked": true,
     "schema_version": 3,
     "solution": false,
     "task": false
    }
   },
   "source": [
    "In this first exercise you need some files, which are necessary for your solutions. You should find these files now in the same directory as the notebook:\n",
    "\n",
    " * `Bessel_Functions.pdf`  the PDF version of the example Jupyter notebook\n",
    " * `bessel_asymp1.py` the first code block\n",
    " * `bessel_asymp2.py` the second code block\n",
    " * `bessel_functions.png`  the image inside the notebook\n",
    " * `*.dat` several files with lists of moons orbiting planets (e.g. Saturn, Jupiter)\n",
    " \n",
    "You can use the file browser to have a look at these files. You find all files of this exercise in *Exercise_1* in your home directory."
   ]
  },
  {
   "cell_type": "markdown",
   "metadata": {
    "deletable": false,
    "editable": false,
    "nbgrader": {
     "cell_type": "markdown",
     "checksum": "3627c20203aa8c824c31a0d242faa06d",
     "grade": false,
     "grade_id": "cell-31e85fba112e2b98",
     "locked": true,
     "schema_version": 3,
     "solution": false,
     "task": false
    }
   },
   "source": [
    "# 1. Create a Jupyter notebook (20 points)"
   ]
  },
  {
   "cell_type": "markdown",
   "metadata": {
    "deletable": false,
    "editable": false,
    "nbgrader": {
     "cell_type": "markdown",
     "checksum": "d9f2507429955461b180458419c1e6e2",
     "grade": false,
     "grade_id": "cell-0c9d44d4478fbf15",
     "locked": true,
     "points": 0,
     "schema_version": 3,
     "solution": false,
     "task": true
    }
   },
   "source": [
    "In this first task you should recreate the notebook ```Bessel_Functions.ipynb```. You have a PDF version ```Bessel_Functions.pdf``` of this notebook in your directory. \n",
    "\n",
    "**Your tasks:**\n",
    " * recreate the ```Bessel_Functions``` notebook\n",
    " \n",
    "**Hints:**\n",
    " * you can find a video tutorial series of how to work with the Jupyterlab environment including how to create Jupyter notebooks on [YouTube](https://www.youtube.com/playlist?list=PL0FqMC_xCtjRvXC1R55U5ufx0vxajpZqi)\n",
    " * the image in the notebook is in your directory\n",
    " * For the two code blocks you can create for each a code cell and use a Jupyter notebooks magic command. If you type this command: \n",
    "   ```\n",
    "   %load bessel_asymp1.py\n",
    "   ```\n",
    "   into one cell and execute the cell, the content of *bessel_asymp1.py* will be loaded into the code cell! Do this equally for *bessel_asymp2.py*!"
   ]
  },
  {
   "cell_type": "markdown",
   "metadata": {
    "deletable": false,
    "editable": false,
    "nbgrader": {
     "cell_type": "markdown",
     "checksum": "7d96c1134f5cefe77ccc0ee0ed0dbf0d",
     "grade": false,
     "grade_id": "cell-5c20b7824c889804",
     "locked": true,
     "schema_version": 3,
     "solution": false,
     "task": false
    }
   },
   "source": [
    "# 2. Create a Python script (20 points)"
   ]
  },
  {
   "cell_type": "markdown",
   "metadata": {
    "deletable": false,
    "editable": false,
    "nbgrader": {
     "cell_type": "markdown",
     "checksum": "7b88213001f5eb591347da84ba98ef6d",
     "grade": false,
     "grade_id": "cell-5458b4f7397ab31e",
     "locked": true,
     "schema_version": 3,
     "solution": false,
     "task": false
    }
   },
   "source": [
    "There are two different possibilities to write Python programs. One is to use jupyter notebooks to have a form of interactive program in which you can run a program cell after cell. The other way to write programs is to write scripts which can be run e.g. in a terminal. \n",
    "\n",
    "Let's have a look at the following exercise:\n",
    "\n",
    "\n",
    "## Moons orbiting Saturn\n",
    "\n",
    "In this exercise we want to test the third Kepler law \n",
    "\n",
    "The third kepler law is for a small body orbiting a large mass:\n",
    "\n",
    "$$ \\frac{T^2}{a^3} = C $$\n",
    "\n",
    "where $T$ is the orbital period and $a$ the semi-major axis of the orbit. For all bodies orbiting a mass $M$ $C$ is constant and can be written as:\n",
    "\n",
    "$$C \\approx \\frac{4\\pi^2}{G\\cdot M}$$\n",
    "\n",
    "with the gravitational constant $G=6.67408 × 10^{-11} m^3 kg^{-1} s^{-2}$.\n",
    "\n",
    "\n",
    "The task is now to write a python program in the Jupyterlab environment which first prove the third kepler law and then calculate the Mass $M$ of Saturn using the orbital data of the moons around Saturn. The program should calculate the mass for all moons infividually and then for the final mass make use of the mean and standard deviation of all values.\n",
    "\n",
    "The file with the orbital data is stored in the same directory of this notebook and it is named  *Saturn.dat*. It has a table with 4 columns, the name, the planet the moon is surrounding (Saturn), the semi-major axis (in km) and the orbital period (in days). Only the last 2 columns of the table are important for this program.\n",
    "\n",
    "\n",
    "## a) The solution in a Jupyter Notebook\n",
    "First we describe how the solution can be implemented in a jupyter notebook. Please go through all the code cells and individually execute a cell by pressing *Shift-Return*."
   ]
  },
  {
   "cell_type": "markdown",
   "metadata": {
    "deletable": false,
    "editable": false,
    "nbgrader": {
     "cell_type": "markdown",
     "checksum": "fcd2d2f7ce4d1b355b7ce631ac712a62",
     "grade": false,
     "grade_id": "cell-c17a7f09d3a1c633",
     "locked": true,
     "schema_version": 3,
     "solution": false,
     "task": false
    }
   },
   "source": [
    "We need to load the data from *Saturn.dat*. Before we start we need to load all necessary modules:"
   ]
  },
  {
   "cell_type": "code",
   "execution_count": 1,
   "metadata": {},
   "outputs": [],
   "source": [
    "# this is only necessary for jupyter notebooks\n",
    "%matplotlib inline                \n",
    "\n",
    "import numpy as np                # module for math arrays\n",
    "import matplotlib.pyplot as plt   # module for plotting"
   ]
  },
  {
   "cell_type": "markdown",
   "metadata": {
    "deletable": false,
    "editable": false,
    "nbgrader": {
     "cell_type": "markdown",
     "checksum": "d4de0e5d94f8590bb0691a773d6f6872",
     "grade": false,
     "grade_id": "cell-a474fd480b6084f5",
     "locked": true,
     "schema_version": 3,
     "solution": false,
     "task": false
    }
   },
   "source": [
    "Then load the data into the memory, omit the first 2 columns. Then seperate the columns and calculate the values\n",
    "into meters and seconds."
   ]
  },
  {
   "cell_type": "code",
   "execution_count": 2,
   "metadata": {},
   "outputs": [],
   "source": [
    "data = np.loadtxt('Saturn.dat', usecols=[2,3])\n",
    "\n",
    "# seperate data\n",
    "saxis = data[:,0] * 1000         # semi major axis in meter\n",
    "torb  = data[:,1] * 24 * 60 * 60 # orbital period in seconds"
   ]
  },
  {
   "cell_type": "markdown",
   "metadata": {
    "deletable": false,
    "editable": false,
    "nbgrader": {
     "cell_type": "markdown",
     "checksum": "956f80f2ee372719c560c24c40895ffb",
     "grade": false,
     "grade_id": "cell-c0af8197e30dc615",
     "locked": true,
     "schema_version": 3,
     "solution": false,
     "task": false
    }
   },
   "source": [
    "The matplotlib provides a simple scatter plot tool which we use to draw the data in the scheme of the third kepler law.You will learn more parameter for the plots in the lecture:"
   ]
  },
  {
   "cell_type": "code",
   "execution_count": 3,
   "metadata": {},
   "outputs": [
    {
     "data": {
      "text/plain": [
       "<matplotlib.collections.PathCollection at 0x7f581d7dd9e8>"
      ]
     },
     "execution_count": 3,
     "metadata": {},
     "output_type": "execute_result"
    },
    {
     "data": {
      "image/png": "[encoded data removed]",
      "text/plain": [
       "<Figure size 432x288 with 1 Axes>"
      ]
     },
     "metadata": {
      "needs_background": "light"
     },
     "output_type": "display_data"
    }
   ],
   "source": [
    "plt.scatter(torb**2, saxis**3)   # plot T^2 against a^3"
   ]
  },
  {
   "cell_type": "markdown",
   "metadata": {
    "deletable": false,
    "editable": false,
    "nbgrader": {
     "cell_type": "markdown",
     "checksum": "657f1fe0c28aea54ab04ca9e9e684cc4",
     "grade": false,
     "grade_id": "cell-a2c888e81d8888ab",
     "locked": true,
     "schema_version": 3,
     "solution": false,
     "task": false
    }
   },
   "source": [
    "As you can see, the data points are lying on a straight line which indicated, that the third kepler law is prooved with these moons.\n",
    "\n",
    "Now we calculate the kepler constant $C$. In this case we can use the arrays directly in our calculations:"
   ]
  },
  {
   "cell_type": "code",
   "execution_count": 4,
   "metadata": {},
   "outputs": [],
   "source": [
    "# calculate the mass\n",
    "\n",
    "# calculate the kepler constant for all moons\n",
    "c = torb**2/saxis**3             # we can use the arrays directly"
   ]
  },
  {
   "cell_type": "markdown",
   "metadata": {
    "deletable": false,
    "editable": false,
    "nbgrader": {
     "cell_type": "markdown",
     "checksum": "6caaf446f805ad361a4e68a8d312461d",
     "grade": false,
     "grade_id": "cell-674bb85c53805e9a",
     "locked": true,
     "schema_version": 3,
     "solution": false,
     "task": false
    }
   },
   "source": [
    "Using the formular for the mass $M$ we can calculate the masses:"
   ]
  },
  {
   "cell_type": "code",
   "execution_count": 5,
   "metadata": {},
   "outputs": [],
   "source": [
    "g = 6.67408e-11                  # the gravitational constant in m^3 kg^-1 s^-2\n",
    "\n",
    "m = 4*(np.pi**2)/(g*c)           # calculate the mass for all moons\n"
   ]
  },
  {
   "cell_type": "markdown",
   "metadata": {
    "deletable": false,
    "editable": false,
    "nbgrader": {
     "cell_type": "markdown",
     "checksum": "7b7c1bb9fb54d7cba19e5347691e3def",
     "grade": false,
     "grade_id": "cell-e55de235b03d5652",
     "locked": true,
     "schema_version": 3,
     "solution": false,
     "task": false
    }
   },
   "source": [
    "Finally we can print the results. For all arrays your have a *.mean()* and a *.std()* function which calculates the mean value and its standard deviation:"
   ]
  },
  {
   "cell_type": "code",
   "execution_count": 6,
   "metadata": {},
   "outputs": [
    {
     "name": "stdout",
     "output_type": "stream",
     "text": [
      "M = 5.629853444338598  +/- 0.38072136278234225  10^26 kg\n"
     ]
    }
   ],
   "source": [
    "m = m / 1e26                     # downscale for printing\n",
    "print('M =', m.mean(), ' +/-', m.std(), ' 10^26 kg')"
   ]
  },
  {
   "cell_type": "markdown",
   "metadata": {
    "deletable": false,
    "editable": false,
    "nbgrader": {
     "cell_type": "markdown",
     "checksum": "3817ad9ed0aa84b80a81dd97ef7518a7",
     "grade": false,
     "grade_id": "cell-da892460e9688162",
     "locked": true,
     "schema_version": 3,
     "solution": false,
     "task": false
    }
   },
   "source": [
    "## b) The solution in a  Python script\n",
    "\n",
    "To write the same program in a Python script, you need to copy the code from the code cells into a textfile which should be named e.g. *planets_group_XXX.py* (replace XXX with your group number). As shown in the video tutorials you can drag and drop the content of the cells directly into an open text file in the jupyterlab environment. Please do not copy this line:\n",
    "```Python\n",
    "%matplotlib inline\n",
    "```\n",
    "This is a magic command (starting with a `%`) and only working in Jupyter notebooks. In Python scripts this line generates an error.\n",
    "\n",
    "When the script is finished you can open a terminal and change to the directory in which your Python textfile is. The you can run the command:\n",
    "\n",
    "```\n",
    "python3 planets_group_XXX.py\n",
    "```\n",
    "\n",
    "You will see the output of the scipt in the terminal which shows you the calculated mass of Saturn. Unfortunately the plot is not shown."
   ]
  },
  {
   "cell_type": "markdown",
   "metadata": {
    "deletable": false,
    "editable": false,
    "nbgrader": {
     "cell_type": "markdown",
     "checksum": "81380ebd43f0e50f6902c71d50dd3509",
     "grade": false,
     "grade_id": "cell-84594634180258aa",
     "locked": true,
     "schema_version": 3,
     "solution": false,
     "task": false
    }
   },
   "source": [
    "## c) Running the Python script with arguments\n",
    "\n",
    "One big advantage of Python scripts is that we can use scripts not only for specific problems but also in the context of batch processing which means using the same script on different files or data sets. In this program we are using the file *Saturn.txt*. In the directory we have similar files for other planets, e.g. Jupiter, Neptun, Uranus. You probably know from several Unix/Linux commands that you can pass filenames as parameters to commands. This is also possible for Python scripts. There is a special module called *sys* which provides a list of command line arguments *sys.argv* which we can use to read the file the script has to use!\n",
    "\n",
    "To modify the existing Python script to accept command line parameters, replace this line:\n",
    "\n",
    "```Python\n",
    "data = np.loadtxt('Saturn.dat', usecols=[2,3])\n",
    "```\n",
    "\n",
    "with:\n",
    "```Python\n",
    "import sys      # for accessing the command line parameters\n",
    "\n",
    "data = np.loadtxt(sys.argv[1], usecols=[2,3])\n",
    "```\n",
    "\n",
    "Now you can run the program with:\n",
    "```\n",
    "python3 planets_group_XXX.py Saturn.dat\n",
    "```\n",
    "or\n",
    "```\n",
    "python3 planets_group_XXX.py Jupiter.dat\n",
    "```"
   ]
  },
  {
   "cell_type": "markdown",
   "metadata": {
    "deletable": false,
    "editable": false,
    "nbgrader": {
     "cell_type": "markdown",
     "checksum": "45dfbcb1c9fc6b4403b7ca06c94142aa",
     "grade": false,
     "grade_id": "cell-3cb0a73cfbd09390",
     "locked": true,
     "schema_version": 3,
     "solution": false,
     "task": false
    }
   },
   "source": [
    "## Your tasks\n",
    "\n",
    " * create a Python script *planets_group_XXX.py* (replace XXX with your group number!) in the jupyterlab editor. Copy the existing cells of the Jupyter notebook solution above with drag and drop into the script file.\n",
    " * open a terminal and run your program with *python3 planets_group_XXX.py* \n",
    " * modify your program for the usage of arguments and test the program for the planets Jupiter, Saturn and Uranus.\n",
    " * submit the script via eCampus\n",
    " \n",
    "**Hints:**\n",
    " * Do not copy this line:\n",
    "   ```Python\n",
    "   %matplotlib inline\n",
    "   ```\n",
    "   This code line is magic command (starting with %). Magic commands are only working in jupyter notebooks. Using this commands in scripts will give you an error!\n",
    " * One difference between the ipython consle and the terminal is that in the terminal no graphical output will be generated!"
   ]
  },
  {
   "cell_type": "code",
   "execution_count": null,
   "metadata": {},
   "outputs": [],
   "source": []
  }
 ],
 "metadata": {
  "kernelspec": {
   "display_name": "Python 3",
   "language": "python",
   "name": "python3"
  },
  "language_info": {
   "codemirror_mode": {
    "name": "ipython",
    "version": 3
   },
   "file_extension": ".py",
   "mimetype": "text/x-python",
   "name": "python",
   "nbconvert_exporter": "python",
   "pygments_lexer": "ipython3",
   "version": "3.7.3"
  }
 },
 "nbformat": 4,
 "nbformat_minor": 4
}
